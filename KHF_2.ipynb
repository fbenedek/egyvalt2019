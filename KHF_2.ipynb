{
  "nbformat": 4,
  "nbformat_minor": 0,
  "metadata": {
    "colab": {
      "name": "KHF_2",
      "provenance": [],
      "collapsed_sections": []
    },
    "kernelspec": {
      "name": "python3",
      "display_name": "Python 3"
    }
  },
  "cells": [
    {
      "cell_type": "markdown",
      "metadata": {
        "id": "sUWV_MW8ILFa",
        "colab_type": "text"
      },
      "source": [
        "# Első KHF\n",
        "       \n",
        "## Adminisztráció:\n",
        "        \n",
        "- A házi határideje 4. hét szerda éjfél (2019.10.02 23:59:59.999)\n",
        "- A határidőig a két feladatot egyben tartalmazó .py fájlt [ebben](https://forms.gle/mn3yfr6RX9Ww381dA) a formban tudjátok beadni.\n",
        "- Csak teljesen kész házit fogadunk el, hibaüzenet nélkül. Fél házi, vagy le nem futó program $0$ pontot ér! Ha kérdésetek van, vagy nem megy, keressetek a benedek.forrai@gmail.com vagy fbenedek19@icloud.com címek valamelyikén."
      ]
    },
    {
      "cell_type": "markdown",
      "metadata": {
        "id": "3UV3kFt1Iq2F",
        "colab_type": "text"
      },
      "source": [
        "## 1. feladat: A(z) trükkös magyar nyelv\n",
        "\n",
        "Órán írtunk egy kódrészletet, ami kiírogatta nekünk egy string elemeit. Valami azért nem az igazi - kicsit nyelvtörős felolvasni a kiprintelt szöveget."
      ]
    },
    {
      "cell_type": "code",
      "metadata": {
        "id": "duGtTi6tIqKJ",
        "colab_type": "code",
        "colab": {
          "base_uri": "https://localhost:8080/",
          "height": 156
        },
        "outputId": "fd7d39b7-f3d5-486b-940c-ea1c776c71fc"
      },
      "source": [
        "for index, char in enumerate('stringem'): #enumerate 2 dolgot ad vissz: először az indexet, aztén a lista/str elemét\n",
        "  print(\"Az %i sorszámú betű az %c\" % (index, char))"
      ],
      "execution_count": 2,
      "outputs": [
        {
          "output_type": "stream",
          "text": [
            "Az 0 sorszámú betű az s\n",
            "Az 1 sorszámú betű az t\n",
            "Az 2 sorszámú betű az r\n",
            "Az 3 sorszámú betű az i\n",
            "Az 4 sorszámú betű az n\n",
            "Az 5 sorszámú betű az g\n",
            "Az 6 sorszámú betű az e\n",
            "Az 7 sorszámú betű az m\n"
          ],
          "name": "stdout"
        }
      ]
    },
    {
      "cell_type": "markdown",
      "metadata": {
        "id": "-mKBaGVBJmf3",
        "colab_type": "text"
      },
      "source": [
        "A feladatotok az, hogy javítsatok bele a ciklusba úgy, hogy tetszőleges, csak az angol ábécé kisbetűit tartalmazó str-t ki lehessen nyomtatni úgy, hogy az 'az'-ok és 'a'-k normálisak legyenek. Pl.:"
      ]
    },
    {
      "cell_type": "code",
      "metadata": {
        "id": "edZf0urfJbzx",
        "colab_type": "code",
        "colab": {}
      },
      "source": [
        "'''\n",
        "A 0 sorszámú betű az s\n",
        "Az 1 sorszámú betű a t\n",
        "A 2 sorszámú betű az r\n",
        "A 3 sorszámú betű az i\n",
        "A 4 sorszámú betű az n\n",
        "Az 5 sorszámú betű a g\n",
        "A 6 sorszámú betű az e\n",
        "A 7 sorszámú betű az m\n",
        "'''"
      ],
      "execution_count": 0,
      "outputs": []
    },
    {
      "cell_type": "markdown",
      "metadata": {
        "id": "486vIywNKf1i",
        "colab_type": "text"
      },
      "source": [
        "# 2. feladat: OCHKO123\n",
        "\n",
        "Bújjunk egy hekker bőrébe: képzeljük el, hogy éppen most tettünk szert nagy mennyiségű bankkártyaadatra. Mielőtt eladnánk ezeket bűnözőknek carder fórumokon, szeretnénk ellenőrizni, hogy hitelesek-e - a becsületünk múlik rajta.\n",
        "\n",
        "A kártyák adatait már beolvastuk a memóriába, jelenleg egy \"kartyak\" nevű listában vannak, ami így néz ki:"
      ]
    },
    {
      "cell_type": "code",
      "metadata": {
        "id": "0gcBoE1TLWLe",
        "colab_type": "code",
        "colab": {}
      },
      "source": [
        "kartyak = ['6269 2711 0001 1196', '5321 8041 7796 7573', '1279 2710 9101 1196', '4251 2132 9062 7816', '9234 1134 8392 3553', '2383 8823 9423 1164']"
      ],
      "execution_count": 0,
      "outputs": []
    },
    {
      "cell_type": "markdown",
      "metadata": {
        "id": "3nW66rbBLa3M",
        "colab_type": "text"
      },
      "source": [
        "A kártyák árványességét a [Luhn-formulával](https://hu.wikipedia.org/wiki/Luhn-formula) dönthetitek el. Nézzétek végig a tömböt, és ha érvénytelen kártyát találtok, jelezze a programotok!"
      ]
    }
  ]
}