{
  "nbformat": 4,
  "nbformat_minor": 0,
  "metadata": {
    "colab": {
      "name": "Gyak3_fg.ipynb",
      "provenance": []
    },
    "kernelspec": {
      "name": "python3",
      "display_name": "Python 3"
    }
  },
  "cells": [
    {
      "cell_type": "markdown",
      "metadata": {
        "id": "59LYQGBvl-Nf",
        "colab_type": "text"
      },
      "source": [
        "# 3. gyakorlat: függvények, scope, kód újrafelhasználása egy programon belül; programozási alaptételek\n",
        "\n",
        "Megvan a múlt órai házi mindenkinek? A második feladat valahogy csak összejött, de a végére valami ilyesmi született:"
      ]
    },
    {
      "cell_type": "code",
      "metadata": {
        "id": "C6i-lRRN4BLP",
        "colab_type": "code",
        "colab": {}
      },
      "source": [
        "\n",
        "for kartya in kartyak:\n",
        "  kartyaCheck = []\n",
        "  for karakter in kartya:\n",
        "    if karakter != ' ':\n",
        "      kartyaCheck.append(karakter)\n",
        "  print(kartyaCheck)\n",
        "  for index, karakter in enumerate(kartyaCheck):\n",
        "    if index%2 == 0:\n",
        "      double = 2*int(karakter)\n",
        "      if double >= 10:\n",
        "        double = int(str(double)[1])+int(str(double)[0])\n",
        "      kartyaCheck[index] = str(double)\n",
        "  print(kartyaCheck)\n",
        "  kartyaCheckSum = 0\n",
        "  for karakter in kartyaCheck:\n",
        "    kartyaCheckSum += int(karakter)\n",
        "  print(kartyaCheckSum)"
      ],
      "execution_count": 0,
      "outputs": []
    },
    {
      "cell_type": "markdown",
      "metadata": {
        "id": "0o0FaHbO4MDO",
        "colab_type": "text"
      },
      "source": [
        "Ez most lehet jól működik, de:\n",
        "- Még ha bele is lenne kommentelve, valaki másnak elsőre nem lenne könnyű kitalálni, hogy mit csinál ez a program\n",
        "\n",
        "- Ha nektek fél év múlva elő kellene venni - bármi miatt - ezt a részletet, Ti sem örülnétek neki annyira\n",
        "\n",
        "- Ha több helyen használnátok, az egészet be kéne másolni\n",
        "\n",
        "- Ha több helyen használjátok, és változik egy szabály, pl. csak minden 3. számot figyelünk, minden egyes megjelenést ki kéne javítani.\n",
        "\n",
        "És még sorolhatnánk... szerencsére van egy nagyszerű dolog - matekból ismerős lehet - amit úgy hívnak hogy függvény/angolszászul function. A függvények segítségével a felső kódból ilyet lehet csinálni:"
      ]
    },
    {
      "cell_type": "code",
      "metadata": {
        "id": "y7u0nDrQ5S6F",
        "colab_type": "code",
        "colab": {}
      },
      "source": [
        "for kartya in kartyak:\n",
        "  \n",
        "  kartyaLista = kartyaStrListavaKonvertalas(kartya)\n",
        "  \n",
        "  luhnKartya = LuhnAtalakitas(kartyaLista)\n",
        "  \n",
        "  ellenorzoOsszeg = szamjegyOsszeg(luhnKartya) \n",
        "  \n",
        "  print(ellenorzoOsszeg)"
      ],
      "execution_count": 0,
      "outputs": []
    },
    {
      "cell_type": "markdown",
      "metadata": {
        "id": "Agyy1mPx5fd_",
        "colab_type": "text"
      },
      "source": [
        "Hogyan tudtuk a Pythont rávenni, hogy megértse ezeket a fogalmakat? Úgy hogy ezeket a neveket - pl. ellenorzoOsszeg, LuhnAtalakitas - hozzárendeltük valamilyen kódrészlethez, ami megcsinálja azt, amit mi ezen a fogalmon értünk. Csaltam egy kicsit az előző példámban, mert a \"hozzárendelésekkel\" együtt már így néz ki a kód:"
      ]
    },
    {
      "cell_type": "code",
      "metadata": {
        "id": "saZPRaXM6Vtk",
        "colab_type": "code",
        "colab": {}
      },
      "source": [
        "def kartyaStrListavaKonvertalas(kartya):\n",
        "  '''\n",
        "  Listává konvertálja a str-ként beolvasott adatot, és törli a szóközöket.\n",
        "  '''\n",
        "  kartyaAdatLista=[]\n",
        "  for karakter in kartya:\n",
        "    if karakter != ' ':\n",
        "      kartyaAdatLista.append(karakter)\n",
        "\n",
        "  return kartyaAdatLista\n",
        "\n",
        "def szamjegyOsszeg(szam):\n",
        "  '''\n",
        "  Egy tízes számrendszerbeli, strként vagy listaként addot szám jegyeinek összegét számolja ki.\n",
        "  '''\n",
        "  osszeg=0\n",
        "  for jegy in szam:\n",
        "    osszeg+=int(jegy)\n",
        "\n",
        "  return osszeg\n",
        "\n",
        "def LuhnAtalakitas(kartyalista):\n",
        "  '''\n",
        "  A listaként megkapott kártyaszámot várja, és egy olyan listát ad vissza, aminek az elemeit összegezve ellenőrizhető az érvényesség.\n",
        "  '''\n",
        "  for index, karakter in enumerate(kartyalista):\n",
        "    if index%2 == 0:\n",
        "      ujErtek = 2*int(karakter)\n",
        "      if ujErtek >= 10:\n",
        "        ujErtek = szamjegyOsszeg(str(ujErtek))\n",
        "      kartyalista[index] = str(ujErtek)\n",
        "  return kartyalista\n",
        "\n",
        "for kartya in kartyak:\n",
        "  kartyaLista = kartyaStrListavaKonvertalas(kartya) \n",
        "  luhnKartya = LuhnAtalakitas(kartyaLista)\n",
        "  ellenorzoOsszeg = szamjegyOsszeg(luhnKartya) \n",
        "  print(ellenorzoOsszeg)"
      ],
      "execution_count": 0,
      "outputs": []
    },
    {
      "cell_type": "markdown",
      "metadata": {
        "id": "HvGC62_b6tnC",
        "colab_type": "text"
      },
      "source": [
        "Így már nem tűnik sokkal szebbnek - pedig az! A függvényekkel két olyan dolgot lehet csinálni, ami nagyon fontos az informatikában és a mérnöki tudományban:\n",
        "\n",
        "- Absztrakcióra teszik képessé a programjainkat\n",
        "- Dekompozícióra teszik képessé a programjainkat\n",
        "\n",
        "## Az absztrakció\n",
        "\n",
        "Első órán már érintettük az absztrakció fogalmát: arról beszéltünk, hogy attól függetlenül, hogy a szűmítógépeink nagyon bonyolultak, mégis bárki tudja használni őket. Ez azért van, mert a bonyolult dolgok (tranzisztorok működése, memóriakezelés vagy megjelenítés stb.) mind el vannak dugva előlünk. Valami más megoldotta, hogy jól működjön annyira, hogy nekünk már ne kelljen tudni, hogy mi van belül. Ez az absztrakció: egy lépés, amiben magunk mögött hagyhatjuk azokat a dolgokat, amiket már megoldottunk, és onnantól nem kell vele senkinek sem törődnie.\n",
        "\n",
        "**Absztrakció = tudunk valamit úgy használni, hogy nem tudjuk, hogyan működik**\n",
        "\n",
        "## A dekompozíció\n",
        "\n",
        "Amikor egy nagyobb feladatot kell megoldani, akkor készíthetünk rá egy darab nagyon speciális eszközt - pl. megoldhattuk volna egyetlen függvénnyel a kártyaellenőrzés problémáját is, de sokkal hasznosabb kisebb blokkokból megépíteni, mert:\n",
        "\n",
        "- Így újrafelhasználható kódrészleteket írunk, és újrafelhasználható részleteket használhatunk $\\rightarrow$ gyorsabban dolgozhatunk!\n",
        "- Így könnyebben olvasható  a függvényünk is, nem csak fő feladatot megvalósító kódunk!\n",
        "\n",
        "**Dekompozíció = kis alegységek dolgoznak együtt**\n",
        "\n",
        "## Egyszer debugolni\n",
        "\n",
        "A függvényekkel, meg minden egyébbel, amivel egyszerűsítjük a programjainkat (objektum-orientáltság - majd később) az a célunk, hogy elég legyen egyszer debugolni, átnézni a dolgainkat, és olyan egységekkel tudjunk dolgozni, amiknek később már biztosak vagyunk a működésében. Nézzük meg most, hogy pontosan hogyan is állnak üssze ezek a függvénydolgok, utána meg próbáljuk őket ki!\n",
        "\n",
        "## Mi is a függvény?\n",
        "\n",
        "A függvény egy olyan eljárás, amit előre **definiáltunk**, hogy a fordító tudja, hogy ha innentől (a definíció után) találkozik az eljárás nevével, őt kell végrehajtania. A definíció így történik:\n"
      ]
    },
    {
      "cell_type": "code",
      "metadata": {
        "id": "72Ap5wAGFk-1",
        "colab_type": "code",
        "outputId": "1629b8b6-8e69-4b60-b5f1-15d6e2f86e38",
        "colab": {
          "base_uri": "https://localhost:8080/",
          "height": 33
        }
      },
      "source": [
        "def fuggvenykem (input1, input2): #def, majd függvény neve, utána zárójelben, vesszővel elválasztva \n",
        "  '''\n",
        "  Docstring: nem kötelező, de imád érte mindenki: tömör leírás a fg-ről\n",
        "  '''\n",
        "  muveletkeEredmeny=input1+input2\n",
        "  \n",
        "  return muveletkeEredmeny #return: ha lefutott a függvényke, akkor ebbe adja vissza az eredmenyt\n",
        "# nem kötelező, ha nem írod oda: return None-t tesz a fordító\n",
        "\n",
        "ertek = fuggvenykem(1,2) # A fg meghívása: név(paraméterértékek)\n",
        "print(ertek)"
      ],
      "execution_count": 0,
      "outputs": [
        {
          "output_type": "stream",
          "text": [
            "3\n"
          ],
          "name": "stdout"
        }
      ]
    },
    {
      "cell_type": "markdown",
      "metadata": {
        "id": "_qNmo-yQIoBf",
        "colab_type": "text"
      },
      "source": [
        "## Függvények és a scope\n",
        "\n",
        "Amikor egy függvényt hajt végre a programunk, úgy dolgozik, mintha egy külön kódot futtatna: nézzük meg, hogy ez mi is!"
      ]
    },
    {
      "cell_type": "code",
      "metadata": {
        "id": "j1WTINO-GswK",
        "colab_type": "code",
        "outputId": "c0caf4a0-b698-4af7-dd26-e7ca019bd7ba",
        "colab": {
          "base_uri": "https://localhost:8080/",
          "height": 50
        }
      },
      "source": [
        "def subtractnumbers(x, y):\n",
        "  z = x - y\n",
        "  q = 3*x\n",
        "  return z\n",
        "\n",
        "z = 10\n",
        "x = 20\n",
        "y = 40\n",
        "osszeg = subtractnumbers(y,x)\n",
        "print(osszeg)\n",
        "print(z)\n",
        "#print(q) #hibahiba\n"
      ],
      "execution_count": 0,
      "outputs": [
        {
          "output_type": "stream",
          "text": [
            "20\n",
            "10\n"
          ],
          "name": "stdout"
        }
      ]
    },
    {
      "cell_type": "markdown",
      "metadata": {
        "id": "QiXPKOboKxPu",
        "colab_type": "text"
      },
      "source": [
        "Látjuk, hogy:\n",
        "- z-nek hiába adunk új értéket a programunkon belül, a függvényhívás után nem változik z értéke $20$-ra.\n",
        "- x és y felcserélve került be a függvény argumentumába (így hívjuk a () közti, paramétereket tartalmazó részt) de mégse zavartatta magát a fordító.\n",
        "\n",
        "Ez a scope: a függvényen belüli értékeket a fő programból nem érem el, a függvényem sem éri el (akárhogy) a fg-en kívüli értékeket. Ez azért jó nekünk, mert nem kell a fg belső változóneveivel törődnünk: az absztrakció enélkül nehéz lenne!"
      ]
    },
    {
      "cell_type": "code",
      "metadata": {
        "id": "sSJyYmF3KE3V",
        "colab_type": "code",
        "outputId": "d237ddb1-f2d9-4aa3-dab6-4e4a3c120eff",
        "colab": {
          "base_uri": "https://localhost:8080/",
          "height": 67
        }
      },
      "source": [
        "def subtractnumbers():\n",
        "  z = x - y\n",
        "  return z\n",
        "\n",
        "z = 10\n",
        "x = 20\n",
        "y = 40\n",
        "osszeg = subtractnumbers()\n",
        "print(osszeg)\n",
        "print(z)\n",
        "\n",
        "#Ezt még hagyja a piton, de ez mér elég gáz\n",
        "\n",
        "'''\n",
        "#Amit nem szeret:\n",
        "\n",
        "def subtractnumbers():\n",
        "  x = x - y\n",
        "  print(x)\n",
        "\n",
        "x = 10\n",
        "y = 5\n",
        "osszeg = subtractnumbers()\n",
        "'''\n"
      ],
      "execution_count": 0,
      "outputs": [
        {
          "output_type": "stream",
          "text": [
            "-20\n",
            "10\n"
          ],
          "name": "stdout"
        },
        {
          "output_type": "execute_result",
          "data": {
            "text/plain": [
              "'\\n#Amit nem szeret:\\n\\ndef subtractnumbers():\\n  x = x - y\\n  print(x)\\n\\nx = 10\\ny = 5\\nosszeg = subtractnumbers()\\n'"
            ]
          },
          "metadata": {
            "tags": []
          },
          "execution_count": 16
        }
      ]
    },
    {
      "cell_type": "code",
      "metadata": {
        "id": "aX_OC1VCLu0Q",
        "colab_type": "code",
        "outputId": "fdd6fa23-0efd-4bda-a8f2-d40a22a459ed",
        "colab": {
          "base_uri": "https://localhost:8080/",
          "height": 33
        }
      },
      "source": [
        "#Így lehet megoldani:\n",
        "x=10\n",
        "y=5\n",
        "\n",
        "def subtractnumbers():\n",
        "  global x,y\n",
        "  x = x - y\n",
        "  print(x)\n",
        "\n",
        "subtractnumbers()"
      ],
      "execution_count": 0,
      "outputs": [
        {
          "output_type": "stream",
          "text": [
            "5\n"
          ],
          "name": "stdout"
        }
      ]
    },
    {
      "cell_type": "markdown",
      "metadata": {
        "id": "Id1a4u3vQF9s",
        "colab_type": "text"
      },
      "source": [
        "### Függvény, mint argumentum\n",
        "\n",
        "A Python egy nagyon laza nyelv, bármivel bármit megcsinálhattok benne. Példa az őrületre: lehet függvény átadni paraméterként!"
      ]
    },
    {
      "cell_type": "code",
      "metadata": {
        "id": "jFcaO5E3PWDS",
        "colab_type": "code",
        "outputId": "b99e9a96-b8f9-4e10-a012-4a77bb5fd5f2",
        "colab": {
          "base_uri": "https://localhost:8080/",
          "height": 33
        }
      },
      "source": [
        "def kiirErtek2ben(fuggveny):\n",
        "  print(fuggveny(2))\n",
        "  \n",
        "def negyzet(szam):\n",
        "  szam = szam**2\n",
        "  return szam\n",
        "\n",
        "kiirErtek2ben(negyzet) #HÍVÁST NE TEGYÜK MELLÉ!"
      ],
      "execution_count": 0,
      "outputs": [
        {
          "output_type": "stream",
          "text": [
            "4\n"
          ],
          "name": "stdout"
        }
      ]
    },
    {
      "cell_type": "markdown",
      "metadata": {
        "id": "KpnBOnzPQ2VA",
        "colab_type": "text"
      },
      "source": [
        "## Adósság a múlt óráról - a poramozási tételek\n",
        "\n",
        "Ezek olyan algoritmusok, amik nagyon általánosan fordulnak elő - szinte nincs is olyan program, amiben valamelyik nem szerepelne. Érdemes őket ezért jól ismerni őket!\n",
        "\n",
        "További infó az [InfoC-n](https://infoc.eet.bme.hu/ea02/)."
      ]
    },
    {
      "cell_type": "code",
      "metadata": {
        "id": "TSM2jE-nRpOS",
        "colab_type": "code",
        "outputId": "0e65c6ab-b5be-41ae-f74c-e7a788f77800",
        "colab": {
          "base_uri": "https://localhost:8080/",
          "height": 121
        }
      },
      "source": [
        "# végjeles sorozat feldolgozása: számok bekérése és kiírása addig, amíg páros szám nem érkezik:\n",
        "\n",
        "notEven = int(input('Adj meg páratlan számokat!'))\n",
        "while(notEven % 2 != 0):\n",
        "  print(notEven)\n",
        "  notEven = int(input('Adj meg páratlan számokat!'))\n",
        "print('Gratulálunk, vesztettél!')\n",
        "\n",
        "# Morse-küd figyelőke pl. Internet packetek végén lezaro dolog."
      ],
      "execution_count": 0,
      "outputs": [
        {
          "output_type": "stream",
          "text": [
            "Adj meg páratlan számokat!3\n",
            "3\n",
            "Adj meg páratlan számokat!5\n",
            "5\n",
            "Adj meg páratlan számokat!2\n",
            "Gratulálunk, vesztettél!\n"
          ],
          "name": "stdout"
        }
      ]
    },
    {
      "cell_type": "code",
      "metadata": {
        "id": "IEwtAHSQWLil",
        "colab_type": "code",
        "outputId": "3a6f5978-510a-443c-8149-82c6f3c8d939",
        "colab": {
          "base_uri": "https://localhost:8080/",
          "height": 156
        }
      },
      "source": [
        "# kocsmáros robot - Csizmazia megemlítése.\n",
        "kave = int(input('Hány kávét kérsz?'))\n",
        "osszkave = 0\n",
        "while(kave > 0):\n",
        "  osszkave += kave\n",
        "  print(osszkave)\n",
        "  kave = int(input('Hány kávét kérsz?'))\n",
        "print('Egészségedre!')"
      ],
      "execution_count": 0,
      "outputs": [
        {
          "output_type": "stream",
          "text": [
            "Hány kávét kérsz?1\n",
            "1\n",
            "Hány kávét kérsz?2\n",
            "3\n",
            "Hány kávét kérsz?10\n",
            "13\n",
            "Hány kávét kérsz?0\n",
            "Egészségedre!\n"
          ],
          "name": "stdout"
        }
      ]
    },
    {
      "cell_type": "code",
      "metadata": {
        "id": "tnFI46jmXiyY",
        "colab_type": "code",
        "outputId": "8adc2e7f-0aea-401e-fce0-b205a1fdf3f8",
        "colab": {
          "base_uri": "https://localhost:8080/",
          "height": 52
        }
      },
      "source": [
        "#Egyénni feladat: faktoriális számítóka.\n",
        "szam = int(input('Adj meg egy egész számot!'))\n",
        "fakt = 1\n",
        "\n",
        "for i in range(2,szam+1):\n",
        "  fakt*=i\n",
        "\n",
        "print(fakt)\n",
        "  "
      ],
      "execution_count": 0,
      "outputs": [
        {
          "output_type": "stream",
          "text": [
            "Adj meg egy egész számot!4\n",
            "24\n"
          ],
          "name": "stdout"
        }
      ]
    },
    {
      "cell_type": "code",
      "metadata": {
        "id": "Axjjrm-9YX9t",
        "colab_type": "code",
        "outputId": "d9523e14-b196-4eeb-a1ed-9710b501c107",
        "colab": {
          "base_uri": "https://localhost:8080/",
          "height": 35
        }
      },
      "source": [
        "#Ruag - töltényszámolóka - hány jó töltény van a kis dobozban? Beni már megoldotta a nehezét:\n",
        "\n",
        "toltenyek = [1,1,1,1,0,0,1,1,1,1,1,0,0,0,0,1,0,0,0,0,1,1,0,1,0,1,1,1,1,1,1]\n",
        "\n",
        "jotolteny = 0\n",
        "for tolteny in toltenyek:\n",
        "  if tolteny == 1:\n",
        "    jotolteny += 1\n",
        "  if not (tolteny == 1 or tolteny == 0 ):\n",
        "    print('Beni, valamit beneztel!')\n",
        "    break\n",
        "    \n",
        "print(jotolteny)"
      ],
      "execution_count": 0,
      "outputs": [
        {
          "output_type": "stream",
          "text": [
            "19\n"
          ],
          "name": "stdout"
        }
      ]
    },
    {
      "cell_type": "code",
      "metadata": {
        "id": "wOrLdt6IZlL9",
        "colab_type": "code",
        "outputId": "8d75517b-56f8-468b-c8bd-e991065a2b13",
        "colab": {
          "base_uri": "https://localhost:8080/",
          "height": 35
        }
      },
      "source": [
        "# Szélsőérték keresés! Legnagyobb vagy legkisebb:\n",
        "\n",
        "magassagok = [175, 185, 193, 180, 179, 35]\n",
        "legkisebb = magassagok[0]\n",
        "for magassag in magassagok:\n",
        "  if legkisebb > magassag:\n",
        "    legkisebb = magassag\n",
        "    \n",
        "print(legkisebb)"
      ],
      "execution_count": 0,
      "outputs": [
        {
          "output_type": "stream",
          "text": [
            "35\n"
          ],
          "name": "stdout"
        }
      ]
    },
    {
      "cell_type": "code",
      "metadata": {
        "id": "8ABCvMPIasOC",
        "colab_type": "code",
        "outputId": "d42e5488-a5c8-4f25-b5c1-7d6b9313db2f",
        "colab": {
          "base_uri": "https://localhost:8080/",
          "height": 83
        }
      },
      "source": [
        "# Eldöntés tétele:\n",
        "\n",
        "# van-e prímszám a sorozatomban?\n",
        "\n",
        "# írjátok meg fg-el.\n",
        "\n",
        "#először ki kell találni, hogy mi prím! Ötletek.\n",
        "\n",
        "# egy megoldás: \n",
        "a = 2\n",
        "prim = True\n",
        "for i in range(2,a):\n",
        "  if(a % i == 0):\n",
        "    prim=False\n",
        "if prim:\n",
        "  print('prim!')\n",
        "  \n",
        "# szuper! Akkor mostmár csak bele kell rakni egy loopba/ciklusba.\n",
        "\n",
        "szamkak = [4,6,8,12,15,16,11,18,20]\n",
        "\n",
        "for szam in szamkak:\n",
        "  a = szam\n",
        "  prim = True\n",
        "  for i in range(2,a):\n",
        "    if(a % i == 0):\n",
        "      prim=False\n",
        "  if prim:\n",
        "    print('Találtam egy prímet!')\n",
        "    print(a)\n",
        "print('Vége')"
      ],
      "execution_count": 1,
      "outputs": [
        {
          "output_type": "stream",
          "text": [
            "prim!\n",
            "Találtam egy prímet!\n",
            "11\n",
            "Vége\n"
          ],
          "name": "stdout"
        }
      ]
    },
    {
      "cell_type": "code",
      "metadata": {
        "id": "0FRFckArX_01",
        "colab_type": "code",
        "outputId": "a79e3d28-f746-453f-9a74-d8ead596873c",
        "colab": {
          "base_uri": "https://localhost:8080/",
          "height": 33
        }
      },
      "source": [
        "#Köbgyökvonás\n",
        "#guess and check:\n",
        "\n",
        "def gyokvonas(szam):\n",
        "  gyok = 'Nem találtam meg a gyököt!'\n",
        "  guess = 0\n",
        "  lepes = 0\n",
        "  while(abs(guess**3 - szam)>0.5):\n",
        "    guess+= 0.1\n",
        "    lepes += 1\n",
        "  \n",
        "  gyok = guess\n",
        "  return gyok, lepes\n",
        "      \n",
        "      \n",
        "print(gyokvonas(8))\n",
        "\n",
        "#látjuk hogy ez:\n",
        "#  >lassú!\n",
        "#  >ha rossz lépésközt adunk meg, simán \"átugorhatja\" a keresett értékintervallumot!"
      ],
      "execution_count": 2,
      "outputs": [
        {
          "output_type": "stream",
          "text": [
            "(2.0000000000000004, 20)\n"
          ],
          "name": "stdout"
        }
      ]
    },
    {
      "cell_type": "code",
      "metadata": {
        "id": "v2w-ln15Zg9O",
        "colab_type": "code",
        "outputId": "f87c24fc-1344-416d-f761-7d15fb319b86",
        "colab": {
          "base_uri": "https://localhost:8080/",
          "height": 33
        }
      },
      "source": [
        "#bisection search vagy felezés - hatékonyabb és pontosabb\n",
        "\n",
        "def gyokvonas(szam):\n",
        "  lowerbound = 0\n",
        "  upperbound = szam\n",
        "  guess = (upperbound+lowerbound)/2\n",
        "  lepes = 0\n",
        "  while(abs(guess**3 - szam)>0.0005):\n",
        "    guess = (upperbound+lowerbound)/2\n",
        "    if(guess**3 > szam):\n",
        "      upperbound = guess\n",
        "    else:\n",
        "      lowerbound = guess\n",
        "    lepes+=1\n",
        "  return guess, lepes\n",
        "      \n",
        "print(gyokvonas(7))"
      ],
      "execution_count": 5,
      "outputs": [
        {
          "output_type": "stream",
          "text": [
            "(1.9128875732421875, 16)\n"
          ],
          "name": "stdout"
        }
      ]
    }
  ]
}