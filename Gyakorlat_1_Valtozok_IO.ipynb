{
  "nbformat": 4,
  "nbformat_minor": 0,
  "metadata": {
    "colab": {
      "name": "Gyakorlat_1_Valtozok_IO.ipynb",
      "provenance": [],
      "collapsed_sections": []
    },
    "kernelspec": {
      "name": "python3",
      "display_name": "Python 3"
    }
  },
  "cells": [
    {
      "cell_type": "markdown",
      "metadata": {
        "id": "n4TDbBHWjWN8",
        "colab_type": "text"
      },
      "source": [
        "# Egyvált: 1. gyakorlat: Bevezetés, az első python programunk\n",
        "\n",
        "### Tartalom\n",
        "\n",
        "Az órán a terminálba írogattunk, és megismertük a Python 3.6 első pár parancsát, majd megírtuk az első valami értelmeset csináló programunkat.\n",
        "\n",
        "### Python legalapjai\n",
        "\n",
        "A Pythonban - mint bármelyik másik programozási nyelven - a nyelv által rögzített utasításkészlettel adhatunk utasítást a számítógépünknek arra, hogy azt csinálja, amit mi akarunk. Kezdjük a legegyszerűbbel: írjunk ki valamit a képernyőre."
      ]
    },
    {
      "cell_type": "code",
      "metadata": {
        "id": "JNidoo_MjUaJ",
        "colab_type": "code",
        "outputId": "53491ed9-fb32-479f-b3c9-83179c5440c1",
        "colab": {
          "base_uri": "https://localhost:8080/",
          "height": 35
        }
      },
      "source": [
        "print('Szervusz, világ!') #a print utasítás zárójelei közötti értéket kiírja a Python a képernyőre."
      ],
      "execution_count": 0,
      "outputs": [
        {
          "output_type": "stream",
          "text": [
            "Szervusz, világ!\n"
          ],
          "name": "stdout"
        }
      ]
    },
    {
      "cell_type": "markdown",
      "metadata": {
        "id": "FPvdKk22mICk",
        "colab_type": "text"
      },
      "source": [
        "Most, hogy megvolt a hagyományos \"HelloWorld\" - egyébként ez sem mindig egyszerű, [mikrovezérlőkön ezt sem piskóta megírni](https://www.youtube.com/watch?v=LnzuMJLZRdU).\n",
        "\n",
        "A számítógépek két dolgot tudnak igazán jól: sok adatot tárolni és gyorsan számolni. Próbáljuk ki a Python \"számolókáját\"!"
      ]
    },
    {
      "cell_type": "code",
      "metadata": {
        "id": "Uh5PE35OmE3M",
        "colab_type": "code",
        "outputId": "82e99c5e-59ff-4423-f62e-116030bfe247",
        "colab": {
          "base_uri": "https://localhost:8080/",
          "height": 139
        }
      },
      "source": [
        "print(22+17) # összeadás: ez biztos megy fejben is - a parancsokat enterrel választom el\n",
        "print(635-345) # kivonás: ez is, ha kicsit szőrözünk\n",
        "print(24*147) #szorzás: ez már egész menő, ha megy\n",
        "print(287/6) #osztás\n",
        "print(13%5) #maradék művelet, matekosabbaknak \"modulo\"\n",
        "print(23//4) #egész osztás/ \"bennfoglalás\"\n",
        "print(256**0.25) #hatványozás: működik tört kitevővel is"
      ],
      "execution_count": 0,
      "outputs": [
        {
          "output_type": "stream",
          "text": [
            "39\n",
            "290\n",
            "3528\n",
            "47.833333333333336\n",
            "3\n",
            "5\n",
            "4.0\n"
          ],
          "name": "stdout"
        }
      ]
    },
    {
      "cell_type": "markdown",
      "metadata": {
        "id": "4AHWbh8QpI3u",
        "colab_type": "text"
      },
      "source": [
        "### Változók: a memória fiókjai\n",
        "\n",
        "A fenti sorokba egészen nagy számokat is behelyettesíthettek, és láthatjátok, hogy meg se kottyan a gépeteknek - de hogy tároljuk el ezeket az értékeket? \n",
        "\n",
        "Pythonban ez az eltárolás nagyon egyszerű: egyszerűen csak egyenlővé tesszük a változónkat az értékével!"
      ]
    },
    {
      "cell_type": "code",
      "metadata": {
        "id": "ts9clYBXo7zi",
        "colab_type": "code",
        "outputId": "e0571fc8-5658-4535-fa96-119fed78a394",
        "colab": {
          "base_uri": "https://localhost:8080/",
          "height": 87
        }
      },
      "source": [
        "a = 7 #most eltároltam \"a\" változóban 7-et.\n",
        "print(a) #innentől kiírhatom,\n",
        "a = a + 5 #bármilyen műveletet végezhetek vele\n",
        "b = 100\n",
        "b = a + b**0.5 # akár egy másik változót is hozzáadhatok\n",
        "\n",
        "print(a) # ha egymás után írok ki, egymás alá írja a piton a külön print()-eket\n",
        "print(b) # észrevettétek, hogy bármit írkűlhatok a # mőgé, nem kibűl a fordító; ezt hívják kommentnek. \n",
        "#Egy Python sorban a fordító a #utáni résszel nem foglalkozik.\n",
        "\n"
      ],
      "execution_count": 0,
      "outputs": [
        {
          "output_type": "stream",
          "text": [
            "7\n",
            "12\n",
            "22.0\n",
            "2.0\n"
          ],
          "name": "stdout"
        }
      ]
    },
    {
      "cell_type": "markdown",
      "metadata": {
        "id": "7QAZZL2urguG",
        "colab_type": "text"
      },
      "source": [
        "Figyeljétek meg, hogy az előző eredmény miért lett $22$ helyett $22.0$! A Python egy dinamikusan típusos nyelv - ez annyit tesz, hogy nekünk az értékadásnál nem kell azzal törődni, hogy most épp számot vagy szöveget töltünk be a változóba - de attól a változóknak még lesz típusa, és a Python másként kezeli a külön típusba tartozó dolgokat. Három típust láthattatok eddig:\n",
        "\n",
        "- int, vagyis integer: egész szam. Ha egész számokat műveletelek össze (kivéve törthatványokat és az osztást), mindig egész számot kapok kimenetül.\n",
        "\n",
        "- float: vagy lebegőpontos szám; tizedes törteket tárolhat/vagy nagyon nagy számokat. Osztás és törthatvány eredménye mindig float. Egy floatot egy inttel összeműveletelve floatot kapok. \n",
        "Persze lehetne minden számot floattal jelölni, csak pazarlás lenne. Egy azonos nagyságú egész szám leírásához  sokkal kevesebb memória is elég.\n",
        "\n",
        "- string: szöveg, karaktersorozat. \"\"-vel, vagy ''-vel jelöljük a határait; ilyenne írtuk ki a \"HelloWorld\"-ünket. \n",
        "\n",
        "Egy változó típusát ki is írkálhatjuk pythonnal, ha szeretnénk:"
      ]
    },
    {
      "cell_type": "code",
      "metadata": {
        "id": "LP4eFZowrdG9",
        "colab_type": "code",
        "colab": {
          "base_uri": "https://localhost:8080/",
          "height": 69
        },
        "outputId": "851219e3-fe4f-451f-8dc2-6269e311695d"
      },
      "source": [
        "a = 77\n",
        "print(type(a)) # <class 'int'> - egész szám\n",
        "a = a + 0.420\n",
        "print(type(a)) # <class 'float'> - tört, lebegőpontosan ábrázolva\n",
        "a = '24' #attól, hogy csak szám van benne, lehet str!\n",
        "print(type(a)) # <class 'str'> - karakterlánc"
      ],
      "execution_count": 1,
      "outputs": [
        {
          "output_type": "stream",
          "text": [
            "<class 'int'>\n",
            "<class 'float'>\n",
            "<class 'str'>\n"
          ],
          "name": "stdout"
        }
      ]
    },
    {
      "cell_type": "markdown",
      "metadata": {
        "id": "sRi5Fm2Qv3S6",
        "colab_type": "text"
      },
      "source": [
        "Mostmár egész jó kis programkákat is írhatnánk - akár - ha tudnánk a printelés mellett adatot beolvasni is a felhasználótól. Erre van az input() - a zárójelek közé egy str-t írhatunk (nem muszáj, üres sorba is pötyöghetünk)"
      ]
    },
    {
      "cell_type": "code",
      "metadata": {
        "id": "ha7QdQfUv2mx",
        "colab_type": "code",
        "colab": {
          "base_uri": "https://localhost:8080/",
          "height": 52
        },
        "outputId": "923c2f27-e68d-41e8-b691-c56475bec21d"
      },
      "source": [
        "readValue = input('Adj meg egy számot!') #ez szép és jó, csak nem éppen szám: minden beolvasott dolog str. Ellenőrizzük!\n",
        "print(type(readValue)) #str lett!"
      ],
      "execution_count": 3,
      "outputs": [
        {
          "output_type": "stream",
          "text": [
            "Adj meg egy számot!148869420\n",
            "<class 'str'>\n"
          ],
          "name": "stdout"
        }
      ]
    },
    {
      "cell_type": "markdown",
      "metadata": {
        "id": "_ZaCx_tfxCyq",
        "colab_type": "text"
      },
      "source": [
        "Szerencsére nincs kőbe vésve a változók típusa: lehet egy változót más típussal is használni, mint amilyen van neki. Ez a \"castolás\"; figyelem: ha nem tesszük egyenlővé az új, castolt értékkel a változót, ugyanaz marad a típusa!"
      ]
    },
    {
      "cell_type": "code",
      "metadata": {
        "id": "QSnwedzYxbl_",
        "colab_type": "code",
        "colab": {
          "base_uri": "https://localhost:8080/",
          "height": 69
        },
        "outputId": "5b392d98-498c-43ba-facc-64722cd4c037"
      },
      "source": [
        "b = 2\n",
        "a = 12.1\n",
        "print(b*int(a)) #intesítés kerekít - pontosabban egész rész fgt számít.\n",
        "print(a) \n",
        "print(type(a)) #Figyeljük meg, hogy \"a\" értéke és típusa nem változott.\n",
        "#ugyanígy lehet a többi típust is: float(), str()."
      ],
      "execution_count": 4,
      "outputs": [
        {
          "output_type": "stream",
          "text": [
            "24\n",
            "12.1\n",
            "<class 'float'>\n"
          ],
          "name": "stdout"
        }
      ]
    },
    {
      "cell_type": "markdown",
      "metadata": {
        "id": "iMNuQPeNyDJy",
        "colab_type": "text"
      },
      "source": [
        "### Az első valamire is jó programunk\n",
        "\n",
        "Az első programunk, ami valami értelmeset csinál, egy vízszintes hajítást számító szoftverke lesz. A feladat a következő: \n",
        "\n",
        "Egy $h$ magasságú meredély tetején áll egy ágyú, csöve a meredély felé néz. Arra lennénk kíváncsiak, hogy a $v_0$ kezdősebességgel startoló ágyúgolyó milyen messzire repülhet az ágyútól; ezt írja ki a program a paraméterek beolvasása után. A mértékegységek legyenek végig $SI$-ben, a nehézségi gyorsulás $g=10 m/s^2$-nek vehető."
      ]
    },
    {
      "cell_type": "code",
      "metadata": {
        "id": "uzWIZVjPzlyd",
        "colab_type": "code",
        "colab": {
          "base_uri": "https://localhost:8080/",
          "height": 69
        },
        "outputId": "a40c6baa-3454-4389-fd59-a921d9a855b4"
      },
      "source": [
        "g = 10 #g értékének megadása - nem a felhasználó adja meg\n",
        "v0 = input('Add meg v0t!') #v0 és h beolvasása és eltárolása stringként!\n",
        "h = input('Add meg ht!')\n",
        "\n",
        "v0 = float(v0) #átalakítás floatra str-ről\n",
        "h = float(h)\n",
        "\n",
        "t = (2*h/g)**0.5 # kis alap fizika: kiszámoljuk négyzetes úttörvényből, hogy mennyit van a levegőben a golyóbis\n",
        "l = v0*t # ameddig a levegőben van, addig repül is\n",
        "print(l) #kiírjuk, hogy meddig jutott\n"
      ],
      "execution_count": 5,
      "outputs": [
        {
          "output_type": "stream",
          "text": [
            "Add meg v0t!1288\n",
            "Add meg ht!10\n",
            "1821.5070683365466\n"
          ],
          "name": "stdout"
        }
      ]
    },
    {
      "cell_type": "markdown",
      "metadata": {
        "id": "NAskECqa97UF",
        "colab_type": "text"
      },
      "source": [
        "## Egyéb érdekességek\n",
        "\n",
        "Aki a nyomtatott áramkörök visszafejtésére kíváncsi, az órán [ezt](https://www.youtube.com/watch?v=aHx-XUA6f9g) a videót mutattam róla.\n",
        "\n",
        "[Itt](https://www.youtube.com/watch?v=wglJz23Gt4w) van a robotporszívó szétkapása is, amit néztünk. MarcoReps egyébként egy nagyon igényes csatorna, ajánlom mindenkinek!"
      ]
    }
  ]
}