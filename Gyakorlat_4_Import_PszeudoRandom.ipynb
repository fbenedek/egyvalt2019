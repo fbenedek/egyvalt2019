{
  "nbformat": 4,
  "nbformat_minor": 0,
  "metadata": {
    "kernelspec": {
      "display_name": "Python 3",
      "language": "python",
      "name": "python3"
    },
    "language_info": {
      "codemirror_mode": {
        "name": "ipython",
        "version": 3
      },
      "file_extension": ".py",
      "mimetype": "text/x-python",
      "name": "python",
      "nbconvert_exporter": "python",
      "pygments_lexer": "ipython3",
      "version": "3.7.3"
    },
    "colab": {
      "name": "Gyakorlat_4_import_veletlenszam.ipynb",
      "provenance": []
    }
  },
  "cells": [
    {
      "cell_type": "markdown",
      "metadata": {
        "id": "fsm9o_BEMvb0",
        "colab_type": "text"
      },
      "source": [
        "# 4. gyakorlat: importok - és a \"véletlen\" számok\n",
        "\n",
        "A múlt órai házi feladat 2. részét megnézve találkozhattatok valami ehhez hasonlóval:"
      ]
    },
    {
      "cell_type": "code",
      "metadata": {
        "id": "eBSZJGdIMvb1",
        "colab_type": "code",
        "colab": {}
      },
      "source": [
        "import konyvtar\n",
        "\n",
        "\"\"\"\n",
        "...\n",
        "\"\"\"\n",
        "\n",
        "ertek = konyvtar.fuggveny(argumentumok)\n",
        "\n",
        "\"\"\"\n",
        "...\n",
        "\"\"\""
      ],
      "execution_count": 0,
      "outputs": []
    },
    {
      "cell_type": "markdown",
      "metadata": {
        "id": "LqKBlLz7Mvb3",
        "colab_type": "text"
      },
      "source": [
        "Tapasztalhattátok, hogy ilyen módon olyan függvényeket is használhattunk (pl. időmérő vagy grafikonrajzoló függvénykét), amit nem mi írtunk, és nem is akarunk megírni. A Python-ban ezeket a \"plusz\" függvényeket tartalmazó objektumokat nevezzük \"könyvtáraknak\" (libraries). Vannak a Python-nak olyan könyvtárai, amik a nyelvvel együtt települnek (ilyen az időzítésre szolgáló **time**, vagy a fájl/mappaműveletkez hasznos **os**), de vannak olyanok is, amiket külön telepíteni kell (a második feladatban használt **matplotlib** általában ilyen.\n",
        "\n",
        "## Hogyan keríthetünk könyvtárakat?\n",
        "\n",
        "Akinek valamiért nem volt fenn a matplotlib, annak már muszáj volt utánanéznie, de azért nem olyan vészes így utólag sem: command line-ból (vagy Anaconda Promtból) telepíthettek új könyvtárakat, az internetről letöltve. [Itt](https://packaging.python.org/tutorials/installing-packages/) egy összefoglaló a csomagok telepítéséről Pythonban.\n",
        "\n",
        "## Saját fájljaink újrahasználata\n",
        "\n",
        "Nem csak a beépített vagy letöltött könyvtárakkal dolgozhatunk: ha a fájlotok mappjában található egy másik .py fájl, annak függvényeit is tudjátok használni, ha importoljátok **import fájlnév** -el, kiterjesztés nélkül.\n",
        "\n",
        "## Véletlenszámok - a feladat\n",
        "\n",
        "Az órán azzal foglalkoztunk, hogy hogyan tudunk szoftveresen \"kb. véletlen számokat\" készíteni. Ennek [itt](https://en.wikipedia.org/wiki/Pseudorandom_number_generator) olvashattok utána. Három algoritmusról beszélgettünk:\n",
        "\n",
        "### Véletlen számok a rendszeróra felhasználásával\n",
        "\n",
        "A Python **time** függvényébe beépített óra kb. 200 nanoses-enként vált értéket. Első közelítésben a rendszeróra utolsó számjegyeit vehetjük kb. véletlennek, mert olyan gyorsan pörög, hogy nem tudjuk, éppen hol tarthat, amikor lefuttatjuk a programunkat.\n"
      ]
    },
    {
      "cell_type": "code",
      "metadata": {
        "id": "hnmFO5ctMvb3",
        "colab_type": "code",
        "colab": {}
      },
      "source": [
        "import time #a time könyvtárat használni fogom\n",
        "\n",
        "def randomTimeInt(upperBound):\n",
        "    timeSeed = time.time() #megmérem az időt\n",
        "    randInt = (int(timeSeed*10000000))%upperBound #time.time floatot ad vissza, felszorzom, hogy egész legyen, majd maradékot veszem\n",
        "    return randInt\n",
        "    \n",
        "    "
      ],
      "execution_count": 0,
      "outputs": []
    },
    {
      "cell_type": "markdown",
      "metadata": {
        "id": "5L-MLmtkP7gt",
        "colab_type": "text"
      },
      "source": [
        "Igazából a rendszeróra használatával csaltunk egy kicsit: az igazi pszeudorandom generátorok nem függenek semmilyen fizikai jelenségtől, csak annyit csinálnak, egy számból - amit \"seed\"-nek nevezünk - csinálnak egy másikat, úgy, hogy ne nagyon lehessen felfedezni a két szám közötti összefüggést. Jöjjön pár \"igazi\" váletlenszám generátor; persze ilyen röviden csak a gagyibbakat tudjuk megnézegetni.\n",
        "\n",
        "### Middle square módszer\n",
        "\n",
        "Ez az algoritmus az egyik legnagyobb magyar matematikushoz, Neumann Jánoshoz köthető; az ő korában, az 50-es/60-as években használták véletlen számok generálására. A [wikipédia](https://en.wikipedia.org/wiki/Middle-square_method) elég szépen részletezi a működését. A **len** függvényről még lehet, hogy nem volt szó: ez megmondja egy lista vagy str hosszát egész számként."
      ]
    },
    {
      "cell_type": "code",
      "metadata": {
        "id": "a-LPDLOzMvb7",
        "colab_type": "code",
        "colab": {}
      },
      "source": [
        "def middleSquare(seed, intUpperBound):\n",
        "  lenRandomNumber = len(str(seed))\n",
        "  seed = seed**2\n",
        "  seed = str(seed)\n",
        "  while (len(seed) < lenRandomNumber*2):\n",
        "    seed = '0'+seed\n",
        "    \n",
        "  newSeed = int(seed[lenRandomNumber//2:lenRandomNumber+lenRandomNumber//2])\n",
        "  randomNumber = newSeed/(10**(lenRandomNumber))\n",
        "  randomNumber *= intUpperBound\n",
        "  return int(randomNumber), newSeed"
      ],
      "execution_count": 0,
      "outputs": []
    },
    {
      "cell_type": "markdown",
      "metadata": {
        "id": "B-6IdIsCbYUG",
        "colab_type": "text"
      },
      "source": [
        "## A maradékok módszere: LCG\n",
        "\n",
        "Az LCG-gk olyan algoritmusok, amik a seed-ből úgy állítanak elő új számokat, hogy megszorozzák $a$ tetszőleges számmal, hozzáadnak $b$ tetszőleges számot, majd veszik az összeg maradékát egy $c$ tetszőleges számmal osztva. Képlettel leírva így néz ki:\n",
        "\n",
        "$$ rand = (a*seed+b)mod (c) $$\n",
        "\n",
        "Az $a$, $b$ és $c$ együtthatók jó megválasztása fontos ahhoz, hogy jól működjön az LCG-nk; egy intő példa erre a [RANDU](https://en.wikipedia.org/wiki/RANDU) angolitmus, ami egy olyan LCG, ahol $a=65539$, $b=0$, $c=2^{31}$ és ha jól megnézzük, [kicsit sem tűnik véletlenszerűnek.](https://www.purinchu.net/wp/2009/02/06/the-randu-pseudo-random-number-generator/)"
      ]
    },
    {
      "cell_type": "code",
      "metadata": {
        "id": "WRvaqczPMvb8",
        "colab_type": "code",
        "colab": {}
      },
      "source": [
        "def RANDU(seed, intUpperBound):\n",
        "  newSeed = (65539*seed)%(2**31)\n",
        "  newSeedNormalized = newSeed/(10**(len(str(newSeed))))\n",
        "  randInt = int((intUpperBound+1)*newSeedNormalized)\n",
        "  return randInt-1, newSeed"
      ],
      "execution_count": 0,
      "outputs": []
    }
  ]
}