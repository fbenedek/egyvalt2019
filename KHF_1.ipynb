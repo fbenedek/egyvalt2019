{
  "nbformat": 4,
  "nbformat_minor": 0,
  "metadata": {
    "colab": {
      "name": "KHF_1.ipynb",
      "provenance": []
    },
    "kernelspec": {
      "name": "python3",
      "display_name": "Python 3"
    }
  },
  "cells": [
    {
      "cell_type": "markdown",
      "metadata": {
        "id": "LEAjnzTO6unX",
        "colab_type": "text"
      },
      "source": [
        "# Első KHF\n",
        "\n",
        "## Adminisztráció:\n",
        "\n",
        "- A házi határideje 3. hét szerda éjfél (2019.09.25 23:59:59.999)\n",
        "- A határidőig a két feladatot egyben tartalmazó .py fájlt [ebben](https://forms.gle/mn3yfr6RX9Ww381dA) a formban tudjátok beadni.\n",
        "- Csak teljesen kész házit fogadunk el, hibaüzenet nélkül. Fél házi, vagy le nem futó program $0$ pontot ér! Ha kérdésetek van, vagy nem megy, keressetek a benedek.forra@gmail.com vagy fbenedek19@icloud.com címek valamelyikén.\n",
        "\n",
        "## 1. feladat: Tömegközéppont\n",
        "\n",
        "Készíts olyan programot, ami kettő, egy síkon elhelyezkedő, ismert tömegű pontszerű testből álló rendszer tömegközéppontját adja vissza kimenetként. A bemeneteink:\n",
        "\n",
        "- 1. test $x$ koordináta $[m]$-ben\n",
        "- 1. test $y$ koordináta $[m]$-ben\n",
        "- 1. test tömege $[kg]$-ban\n",
        "- 2. test $x$ koordináta $[m]$-ben\n",
        "- 2. test $y$ koordináta $[m]$-ben\n",
        "- 2. test tömege $[kg]$-ban\n",
        "\n",
        "A kimeneteink:\n",
        "\n",
        "- Tömegközéppont $x$ koordináta\n",
        "- Tömegközéppont $y$ koordináta\n",
        "- A teljes rendszer tömege\n",
        "\n",
        "## 2. feladat: Lebegőpontos számok\n",
        "\n",
        "Miért float a float? Olvassátok el [ezt](https://en.wikipedia.org/wiki/Single-precision_floating-point_format) a cikket, és kiderül! A feladatotok ezután az, hogy binárisan 1 bitben megadott előjelű, 8 bitmen megadott karakterisztikájú (cikkben: exponent) és 23 bitben megadott mantisszájú (angolul: fraction) \"float\" számokat kiírjatok a képernyőre úgy, hogy azt ember is el tudja olvasni, pl.: a 0 exponenssel, 00101000 karakterisztikával, és a 1010111...sokszám...0 mantisszával adott float szám értékét tízes számrendszerben. A kész program segítségével határozzátok meg a legnagyobb (32 biten tárolható) float szám értékét! Ugyanennyi biten intből mekkora a legnagyobb szám?\n",
        "\n",
        "Hint: nem kell megírni az átváltást binárisból tízes számrendszerbe. Keressetek rá, hogy \"python binary\" és nézzetek utána, hogy hogy lehet megoldnai könnyen!"
      ]
    }
  ]
}