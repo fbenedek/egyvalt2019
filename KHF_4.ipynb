{
  "nbformat": 4,
  "nbformat_minor": 0,
  "metadata": {
    "colab": {
      "name": "KHF_3.ipynb",
      "provenance": []
    },
    "kernelspec": {
      "display_name": "Python 3",
      "language": "python",
      "name": "python3"
    },
    "language_info": {
      "codemirror_mode": {
        "name": "ipython",
        "version": 3
      },
      "file_extension": ".py",
      "mimetype": "text/x-python",
      "name": "python",
      "nbconvert_exporter": "python",
      "pygments_lexer": "ipython3",
      "version": "3.7.3"
    }
  },
  "cells": [
    {
      "cell_type": "markdown",
      "metadata": {
        "colab_type": "text",
        "id": "rAy20XdMm3U6"
      },
      "source": [
        "# Harmadik KHF\n",
        "       \n",
        "## Adminisztráció:\n",
        "        \n",
        "- A házi határideje 6. hét szerda éjfél (2019.10.16 23:59:59.999)\n",
        "- A határidőig a két feladatot egyben tartalmazó .py fájlt [ebben](https://forms.gle/mn3yfr6RX9Ww381dA) a formban tudjátok beadni.\n",
        "- Csak teljesen kész házit fogadunk el, hibaüzenet nélkül. Fél házi, vagy le nem futó program $0$ pontot ér! Ha kérdésetek van, vagy nem megy, keressetek a benedek.forrai@gmail.com vagy fbenedek19@icloud.com címek valamelyikén.\n",
        "\n",
        "## Első és egyetlen feladat: véletlen-e a véletlen?\n",
        "\n",
        "A múlt órai anyagban megtaláltok három pszeudorandomszám generátor algoritmust. A mostani házi feladat az lesz, hogy vessétek őket össze a Python segítségével. Ez nem egy olyan \"szájbarágós\" feladat, mint az eddigiek: csak pár szempontot adunk meg Nektek az értékeléshez, a többi részletet - hányszor, pontosan hogyan teszteljétek az algoritmusokat, melyik szempontokat figyeljétek melyik algoritmusnál - határozzátok meg Ti! Ami kőbe van vésve:\n",
        "\n",
        "- A feltöltött kódotokban nem szerepelhet az algoritmusok definíciója. Csak meglévő függvényekkel dolgozhattok.\n",
        "- A kész programotok rajzolja ki a vizsgált algoritmusok \"gyakorlati eloszlásfüggvényét\": egy hisztogramot a kapott számokról.\n",
        "- A véletlenszám generátorok összevetéséhez [ebből](https://en.wikipedia.org/wiki/Pseudorandom_number_generator) a cikkből a \"Potential problems\" fület érdemes tanulmányozni.\n",
        "-Teszteljétek le a Python beépített random függvényét is, és hasonlítsátok össze a három általunk megírttal! Melyik lehet a legjobb a mieink közül, miért? Melyik a legrosszabb? Ezekre a kérdésekre kommentekben válaszoljatok pár mondatban."
      ]
    },
    {
      "cell_type": "code",
      "metadata": {
        "colab_type": "code",
        "id": "9fQYw7n9oIee",
        "outputId": "04401642-0f7d-4634-d020-3da6da4ed904",
        "colab": {
          "base_uri": "https://localhost:8080/",
          "height": 35
        }
      },
      "source": [
        "def kobgyokvonas(in_1):\n",
        "  temp = 0\n",
        "  value = 0.01\n",
        "  b = in_1\n",
        "  local = in_1\n",
        "  #temp = (myNumber+b)/2\n",
        "  upperbound = 0\n",
        "  initialDiff = 1\n",
        "  first = True\n",
        "  working = False\n",
        "  while(first or working):\n",
        "    working = True\n",
        "    first = False\n",
        "    myNumber = (temp+b)/2\n",
        "    if(myNumber**3 > in_1):\n",
        "      b = myNumber\n",
        "    else:\n",
        "      temp = myNumber\n",
        "    c = myNumber\n",
        "    someBool = abs(c**3 - local)>value\n",
        "    if not someBool:\n",
        "      break\n",
        "    upperbound+=1\n",
        "  return myNumber, upperbound\n",
        "\n",
        "kobgyokvonas(10)\n",
        "      "
      ],
      "execution_count": 0,
      "outputs": [
        {
          "output_type": "execute_result",
          "data": {
            "text/plain": [
              "(2.154541015625, 12)"
            ]
          },
          "metadata": {
            "tags": []
          },
          "execution_count": 5
        }
      ]
    },
    {
      "cell_type": "markdown",
      "metadata": {
        "colab_type": "text",
        "id": "zJEwjvBJq-Dg"
      },
      "source": [
        "Lefutni lefut, de nem működik minden számra (negatív/1-nél kisebb számokra), és teljesen olvashatatlan. Alakítsátok át a kódot úgy, hogy minden valós számon fusson értelmesen (és legyen olvashatóbb - de ez opcionális, ér magunkat szívatni).\n",
        "\n"
      ]
    },
    {
      "cell_type": "markdown",
      "metadata": {
        "colab_type": "text",
        "id": "utZc2kTmsEgd"
      },
      "source": [
        "## Második feladat: The Final Prímdown\n",
        "\n",
        "Írjatok egy algoritmust, ami megkeresi az összes prímszámot $2$-től $n$-ig! Ha kész van, teszteljétek, hogy milyen gyors; ezt úgy tudjátok megtenni, hogy felhasználjátok ezt a kódrészletet:\n",
        "\n",
        "\n",
        "\n"
      ]
    },
    {
      "cell_type": "code",
      "metadata": {
        "colab_type": "code",
        "id": "L-mTqG33tJrL",
        "outputId": "52563f74-4e5e-4e64-9b06-dbeba67337ff",
        "colab": {
          "base_uri": "https://localhost:8080/",
          "height": 35
        }
      },
      "source": [
        "\n",
        "import time\n",
        "\n",
        "\n",
        "start = time.time()\n",
        "'''\n",
        "Ide írd meg a programodat, ami visszaadja nekünk az első 100 prímszámot!\n",
        "'''\n",
        "end = time.time()\n",
        "print(\"A futási idő \"+ str(end - start)+\" másodperc.\")"
      ],
      "execution_count": 0,
      "outputs": [
        {
          "output_type": "stream",
          "text": [
            "A futási idő 0.013336420059204102 másodperc.\n"
          ],
          "name": "stdout"
        }
      ]
    },
    {
      "cell_type": "markdown",
      "metadata": {
        "colab_type": "text",
        "id": "Z9tV3diytobq"
      },
      "source": [
        "Teszteljétek le a programotokat azzal, hogy megkeresitek a prímeket ezekig a számokig: [100,200,300,400,500,600,700]. Tegyétek be a futásidőket egy liatába, majd ennek a kódrészletnek a felhasználásával rajzoljátok ki, hogy hogy alakul az algoritmusotok időigényessége, ahogy nőnek a számok!\n"
      ]
    },
    {
      "cell_type": "code",
      "metadata": {
        "colab_type": "code",
        "id": "4yM1v8e4tnbX",
        "outputId": "be595788-3a2a-4352-9245-5c18c1d375d2",
        "colab": {
          "base_uri": "https://localhost:8080/",
          "height": 269
        }
      },
      "source": [
        "import matplotlib.pyplot as plt\n",
        "# előfordulhat, hogy ez a csomag nincs nektek telepítve, nem minden disztribúcióval jön le automatikusan. Keressetek rá, hogy python install matplotlib, ha nagyon nem megy, írjatok \n",
        "\n",
        "# a plt.plot második argumentumába tegyétek azt a listát, amiben a futási idők vannak!\n",
        "\n",
        "plt.plot([100,200,300,400,500,600,700],[10,20,34,65,70,93,112])\n",
        "plt.show()\n",
        "\n"
      ],
      "execution_count": 0,
      "outputs": [
        {
          "output_type": "display_data",
          "data": {
            "image/png": "[encoded data removed]",
            "text/plain": [
              "<Figure size 432x288 with 1 Axes>"
            ]
          },
          "metadata": {
            "tags": []
          }
        }
      ]
    },
    {
      "cell_type": "code",
      "metadata": {
        "colab_type": "code",
        "id": "yLyi9CcLpi4A",
        "colab": {}
      },
      "source": [
        ""
      ],
      "execution_count": 0,
      "outputs": []
    }
  ]
}