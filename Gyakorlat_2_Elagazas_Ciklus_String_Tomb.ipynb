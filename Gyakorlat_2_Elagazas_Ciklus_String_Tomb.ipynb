{
  "nbformat": 4,
  "nbformat_minor": 0,
  "metadata": {
    "colab": {
      "name": "Gyakorlat_2_Elagazas_Ciklus_String_Tomb.ipynb",
      "provenance": []
    },
    "kernelspec": {
      "name": "python3",
      "display_name": "Python 3"
    }
  },
  "cells": [
    {
      "cell_type": "markdown",
      "metadata": {
        "id": "3soEhfcDwdhM",
        "colab_type": "text"
      },
      "source": [
        "# Második gyakorlat: Tömbök, irányítási struktúrák\n",
        "\n",
        "## Gyors \"recap\"\n",
        "\n",
        "A múlt órán a Python nyelv alapjaiba kóstoltunk bele: megtanultunk printenli, inputot kérni, inttel, floattal és stringgel varázsolni.\n",
        "Bemelegítésnek nézzük meg a házi második feladatát, és ismételjük át ezzel az első óra anyagát!\n",
        "\n",
        "A második feladatban a lebegőpontos számokat ismerhettétek meg kicsit mélyebben. Binárisan adott lebegőpontos számokat kellett feldolgozni úgy, hogy a nekik megfelelő értékű 10-es számrendszerbeli számot megkapjuk. Segítségetekre volt [ez a Wiki cikk](https://en.wikipedia.org/wiki/Single-precision_floating-point_format).\n",
        "\n",
        "A trükk az volt, hogy meg kellet találnotok a módját annak, hogy Pythonban bináris számokat adjatok meg. Ennek az egyik módja - de nem a legelegánsabb - az, hogy '0b' kezdettel láttok el egy számot, innen tudja majd a fordító, hogy mire gondoltatok. ([másképp](https://pythonspot.com/binary-numbers-and-logical-operators/)).\n",
        "\n",
        "Azért csinálom mégis így a példában, mert ez a jelölés jól elterjedt, és szerintem hasznos, hogy találkoztok vele. Még a Windows is ismeri:\n",
        "![kepike](https://www.diskgenius.com/how-to/img/fix-error-code-0x80070570-02.png)\n",
        "\n",
        "A hibakód 16-os számrendszerben van, ezt jelölik '0x' kezdéssel. Tizenhatos számrendszer azért használunk programozáskor, mert nagyon könnyű átvinni kettesbe, és sokkal tömörebb, mint egy halom 1 meg 0."
      ]
    },
    {
      "cell_type": "code",
      "metadata": {
        "id": "yEmTZ9l2wJZg",
        "colab_type": "code",
        "outputId": "783e4976-37b9-4123-ff37-a01470e77add",
        "colab": {
          "base_uri": "https://localhost:8080/",
          "height": 69
        }
      },
      "source": [
        "# A megoldás - egyszerűbb, mint ahogy elmondtam.\n",
        "\n",
        "sign = 0b0\n",
        "mant = 0b11111111111111111111111\n",
        "exp = 0b11111111\n",
        "\n",
        "value = (-1)**sign*(mant/(2**23)+1)**(exp-127)\n",
        "\n",
        "print(value)\n",
        "\n",
        "intvalue = 0b11111111111111111111111111111111\n",
        "\n",
        "print(intvalue)\n",
        "print(value/intvalue)"
      ],
      "execution_count": 0,
      "outputs": [
        {
          "output_type": "stream",
          "text": [
            "3.402797707823353e+38\n",
            "4294967295\n",
            "7.922755807208895e+28\n"
          ],
          "name": "stdout"
        }
      ]
    },
    {
      "cell_type": "markdown",
      "metadata": {
        "id": "OU2Gjs4IyuUo",
        "colab_type": "text"
      },
      "source": [
        "Mostmár érthető... Gates és Paul Allen külön matematikust kerestek, hogy megírja az első szoftverük, egy ALTAIR BASIC fordító lebegőpontos rutinjait. (Ő Monte Davidoff). Most átismételtük a dolgokat kicsit, mi legyen?\n",
        "\n",
        "## Vezérlési szerkezetek\n",
        "\n",
        "Az idáig megismert programjaink mind szekvenciák voltak; mindig csak ugyanazt tudták csinálni - mert a számítógépek mindig csak azt tudják csinálni, amit mondunk nekik. A mai órán megtanuljuk, hogy hogy lehet a számítógépeket bonyolultabb dolgokra is rávenni: hogyan tudnak dönteni, ismételni, számlálni.\n",
        "\n",
        "## Mielőtt döntünk\n",
        "\n",
        "Mielőtt döntünk, érdemes tudni, hogy mi az igaz és mi a hamis (októbertizenhárom!!!4). Az igaz/hamis értékeket a Python egy külön típusban, a Boolban ([Boole - algebra](https://hu.wikipedia.org/wiki/Boole-algebra) tiszteletére hívják így) tárolja."
      ]
    },
    {
      "cell_type": "code",
      "metadata": {
        "id": "jsoSXXVIxwbA",
        "colab_type": "code",
        "outputId": "52faaac2-f940-462f-cab5-08d03c38b8be",
        "colab": {
          "base_uri": "https://localhost:8080/",
          "height": 121
        }
      },
      "source": [
        "#mielőtt dönteni kezdenénk\n",
        "a = True #csak True/False lehet. Nagybetűt ne felejtsétek le! Python case sensitive.\n",
        "b = False\n",
        "print(type(a)) #Bool osztályba tartozik.\n",
        "print(b)\n",
        "\n",
        "#Logikai műveletek\n",
        "print(not a)\n",
        "print(a or b)\n",
        "print(a and (not b)) #nagyon egyszerű és intuitív, kb. folyó olvasással fel lehet olvasni.\n",
        "\n",
        "\n",
        "#bool-ok előállítása: összehasonlítás\n",
        "szamom = 8\n",
        "masikszamom = 69\n",
        "print(type(8 == 69)) #háromszoros esetben... javascript és az egyenlőségek: https://codeburst.io/javascript-double-equals-vs-triple-equals-61d4ce5a121a\n",
        "\n",
        "#ugyanígy: => -nagyobb v egyenlő, !=-nem egyenlő"
      ],
      "execution_count": 0,
      "outputs": [
        {
          "output_type": "stream",
          "text": [
            "<class 'bool'>\n",
            "False\n",
            "False\n",
            "True\n",
            "True\n",
            "<class 'bool'>\n"
          ],
          "name": "stdout"
        }
      ]
    },
    {
      "cell_type": "markdown",
      "metadata": {
        "id": "QktflSg03vHB",
        "colab_type": "text"
      },
      "source": [
        "Tisztában vagyunk a Bool változókkal, mostmár elkezdhetünk dönteni. Azért jó amit csak lehet, boolban tárolni, mert így sokkal érthetőbb a programunk (és kevesebb RAMot eszik valamivel, de ma már úgyis mindenki 8G+ mesterfaj)\n",
        "\n",
        "![](https://infoc.eet.bme.hu/ea01/folyamatfeltetel.svg)"
      ]
    },
    {
      "cell_type": "code",
      "metadata": {
        "id": "k0MpD_6L4FML",
        "colab_type": "code",
        "outputId": "086fe365-0a04-46d9-9685-8ea6e8b53fa2",
        "colab": {
          "base_uri": "https://localhost:8080/",
          "height": 87
        }
      },
      "source": [
        "if a:\n",
        "  print('a változó True!')\n",
        "  \n",
        "if a and not b: #lehet bonyolultabb (logikai vagy aritmetikai) kifejezés is\n",
        "  print('ilyen egyszerű') #INDENT : ez határozza meg, hogy merre vagyok a programban. Ált1 Tabnyi.\n",
        "print('de ezt el lehet rontani') # Ez már nincs indentelve.\n",
        "\n",
        "\n",
        "#nem csak bool-t eszik, számokat is - hagyomány a 1989-es C-ből, azóta nem illik ==True-t használni.\n",
        "if 0.1: #BÁRMI AMI NEM 0 = True\n",
        "  print('jaja')\n",
        "elif True:\n",
        "  print('jeje')\n",
        "else:\n",
        "  print('Lefuthat ez valaha?')"
      ],
      "execution_count": 0,
      "outputs": [
        {
          "output_type": "stream",
          "text": [
            "a változó True!\n",
            "ilyen egyszerű\n",
            "de ezt el lehet rontani\n",
            "jeje\n"
          ],
          "name": "stdout"
        }
      ]
    },
    {
      "cell_type": "markdown",
      "metadata": {
        "id": "OWE2t6o25Ijg",
        "colab_type": "text"
      },
      "source": [
        "Tudunk elágazást csinálni! Örüljünk! Ez nagyon sokmindenre jó: inputok kezelése (nem jó számot adnánk meg, betűt szám helyett, stb.), PLC programban munkadarab hiányának, hibájának kezelése; például az [ebben a videóban](https://www.youtube.com/watch?v=8ZiVKduLUkY) mocorgó pneumatikus manimpulátor csak pakolgatna akkor is, ha nem lennének darabok, amiket felvegyen. Egy elágazással tudná kezelni ezt, pl.: ha nem talál darabot, meg tudna állni.\n",
        "\n",
        "## Ciklusok\n",
        "\n",
        "Jók az elágazások, de még mindig hiányzik valami nekünk: amikor programozunk, gyakran kell ismételnünk dolgokat, mert a számítógépek csak nagyon egyszerű lépésekben tudnak haladni. Erre valók a ciklusok! Pythonban kétféleképp csinálhatunk ilyet: while vagy for cikussal.\n",
        "\n",
        "### While\n",
        "\n",
        "A Python while ciklusa egy hagyományos ún. elöltesztelő ciklus. Addig csinál valamit újra és újra, amíg teljesül egy logikai feltétel a \"while\" kulcsszó után. Figyeljétek meg az \"indentet\", a beljebb húzást. Ez jelöli ki a ciklusmagot, azaz azt a részt, amit ismételnünk kell.\n",
        "\n",
        "![](https://infoc.eet.bme.hu/ea01/folyamatciklus.svg)"
      ]
    },
    {
      "cell_type": "code",
      "metadata": {
        "id": "K8fLPGJE4Oao",
        "colab_type": "code",
        "outputId": "98cf7808-ed2e-434a-f76e-3376e3bb2403",
        "colab": {
          "base_uri": "https://localhost:8080/",
          "height": 745
        }
      },
      "source": [
        "# While\n",
        "\n",
        "#csináljunk egy ciklust! Valósítsuk meg a fenti folyamatábrát! Vagy pakoljunk át a robottal 10 darab munkadarabot, igazából ugyanaz.\n",
        "i=1\n",
        "while(i<=10):\n",
        "  print(i) #figyeljétek az indentet!\n",
        "  i+=1\n",
        "print('Vége a ciklusnak!')\n",
        "  \n",
        "#FOGALMAK: CIKLUS, CIKLUSTÖRZS, ITERÁTOR, ITERÁCIÓ, CIKLUSFELTÉTEL - ezeket szépen leírva itt találjátok meg: https://infoc.eet.bme.hu/ea01/#27\n",
        "#Az InfoC weboldalát amúgy forgassa mindenki szorgosan!\n",
        "'''\n",
        "while True:\n",
        "  print(0) ilyet is lehet! Ha elöntik a 0-k a képernyőd, (és nem colab notebookot futtatsz, mint én órán) akkor nyomd meg a Ctrl+C-t, arra kilép\n",
        "'''\n",
        "\n",
        "#For\n",
        "\n",
        "for i in range(0,10): #C-ben ez is hasonló - python hüjébb\n",
        "  print(i) #indent! Rendes IDE-ben tabbal beteszed, shift+tabbal kiveszed, és megy ez kijelöléssel is.\n",
        "  \n",
        "for i in range(0,10,2) #mettől (tartalmazva ezt a számot) : meddig (már kihagyva ezt a számot) : hanyasával\n",
        "#for pythonban inkább \"bejárásra\" van. Ez megkönnyít sok mindent.\n",
        "  print(i)\n",
        "\n",
        "for char in 'strinngem':\n",
        "  print(char)\n",
        "  \n",
        "#ez while-al sokkal kellemetlenebb. A kódotok olvashatósága érdekében amikor lehet, forozzatok!\n",
        "  \n",
        "#azért ha bejárok valamit, néha hiányzik nekem az i (indexváltozó). Ezt így lehet megoldani:\n",
        "\n",
        "for index, char in enumerate('stringem'): #így nem megy!\n",
        "  print(\"Az %i-edik betű az %c\" % (index, char))"
      ],
      "execution_count": 0,
      "outputs": [
        {
          "output_type": "stream",
          "text": [
            "1\n",
            "2\n",
            "3\n",
            "4\n",
            "5\n",
            "6\n",
            "7\n",
            "8\n",
            "9\n",
            "10\n",
            "0\n",
            "1\n",
            "2\n",
            "3\n",
            "4\n",
            "5\n",
            "6\n",
            "7\n",
            "8\n",
            "9\n",
            "10\n",
            "8\n",
            "6\n",
            "4\n",
            "2\n",
            "s\n",
            "t\n",
            "r\n",
            "i\n",
            "n\n",
            "n\n",
            "g\n",
            "e\n",
            "m\n",
            "Az 0-edik betű az s\n",
            "Az 1-edik betű az t\n",
            "Az 2-edik betű az r\n",
            "Az 3-edik betű az i\n",
            "Az 4-edik betű az n\n",
            "Az 5-edik betű az g\n",
            "Az 6-edik betű az e\n",
            "Az 7-edik betű az m\n"
          ],
          "name": "stdout"
        }
      ]
    },
    {
      "cell_type": "code",
      "metadata": {
        "id": "9udxcQMf7Ohw",
        "colab_type": "code",
        "outputId": "5173079d-2577-4ad3-9bb8-4be65c0b8ddf",
        "colab": {
          "base_uri": "https://localhost:8080/",
          "height": 191
        }
      },
      "source": [
        "#advanszdabbak vagyunk: szorzótábla\n",
        "for i in range(1,11):\n",
        "  for j in range(1,11):\n",
        "    print(i*j, end=' ') #először ki kell hagyni!\n",
        "  print('')"
      ],
      "execution_count": 0,
      "outputs": [
        {
          "output_type": "stream",
          "text": [
            "1 2 3 4 5 6 7 8 9 10 \n",
            "2 4 6 8 10 12 14 16 18 20 \n",
            "3 6 9 12 15 18 21 24 27 30 \n",
            "4 8 12 16 20 24 28 32 36 40 \n",
            "5 10 15 20 25 30 35 40 45 50 \n",
            "6 12 18 24 30 36 42 48 54 60 \n",
            "7 14 21 28 35 42 49 56 63 70 \n",
            "8 16 24 32 40 48 56 64 72 80 \n",
            "9 18 27 36 45 54 63 72 81 90 \n",
            "10 20 30 40 50 60 70 80 90 100 \n"
          ],
          "name": "stdout"
        }
      ]
    },
    {
      "cell_type": "markdown",
      "metadata": {
        "id": "iWm2hTF0oEc0",
        "colab_type": "text"
      },
      "source": [
        "## For és While\n",
        "\n",
        "Megnéztük ezeket a ciklusdolgokat. Hasonlítsuk csak össze! \n",
        "\n",
        "For:\n",
        "\n",
        "- Végigiterál valamin \"végigmegy\": előre tudom, hogy mennyiszer.\n",
        "- Breakelni ki tudok azért, ha muszáj.\n",
        "- Megírhatom egy while-al, csak nehezebben olvasható.\n",
        "\n",
        "While:\n",
        "\n",
        "- Elöltesztelő ciklus: nincs előre megmondva, meddig megy\n",
        "- Tud indexelni, de ezt külön inicializálni kell meg benn kell inkrementálni.\n",
        ". Nem írhatom meg bármelyik egy for-al (\"while True\").\n",
        "\n",
        "\n",
        "\n",
        "\n",
        "Kérdés: Stackoverflow, majd dokumentáció (na jó, ez amúgy vicc volt. Amikor tudtok, doksizzatok, mint a rendes mérnökök) Bővebben: https://docs.python.org/3/tutorial/controlflow.html"
      ]
    },
    {
      "cell_type": "markdown",
      "metadata": {
        "id": "T-f3twbdQcR1",
        "colab_type": "text"
      },
      "source": [
        "## Listák\n",
        "\n",
        "Előfordulhat, hogy pár változót egy helyen szeretnék tárolni: így van ez, ha egy számsorozat elemeit, egy partira meghívottak névsorát, vagy mondjuk egy kép pixeleinek R,G,B értékeit szeretném eltenni egy változóba/fájlba.\n",
        "\n",
        "Pythonban többféleképpen is megcselekedhetünk ilyet, de a legegyszerűbb a lista."
      ]
    },
    {
      "cell_type": "code",
      "metadata": {
        "id": "abSCiDOrFC21",
        "colab_type": "code",
        "outputId": "3af40890-53bf-4df9-e081-187960cd0be4",
        "colab": {
          "base_uri": "https://localhost:8080/",
          "height": 121
        }
      },
      "source": [
        "lista = [10,True,'string',[0,1,2],10,14] #bármi lehet benne!\n",
        "print(type(lista))\n",
        "print(lista)\n",
        "print(lista[0])\n",
        "#print(lista[5]) #hiba! index 0-tól indul\n",
        "\n",
        "#egyenként is tudom manipulálni őket - \"mutable\" a lista, változtatható\n",
        "lista[0] = '420' #nem csak szám lehet!\n",
        "print(lista)\n",
        "\n",
        "#Sok hasznos beépített funkció - pl megnézni, hogy mi van benne\n",
        "if 10 in lista:\n",
        "  print('Van tizesed!')\n",
        "  \n",
        "#Vagy hozzárakni valamit:\n",
        "lista.append('Az appendel a végére rakhatok egy új elemet!')\n",
        "print(lista)\n",
        "\n",
        "#több plusz funkció a doksiban: https://docs.python.org/3/tutorial/datastructures.html"
      ],
      "execution_count": 0,
      "outputs": [
        {
          "output_type": "stream",
          "text": [
            "<class 'list'>\n",
            "[10, True, 'string', [0, 1, 2], 10, 14]\n",
            "10\n",
            "['420', True, 'string', [0, 1, 2], 10, 14]\n",
            "Van tizesed!\n",
            "['420', True, 'string', [0, 1, 2], 10, 14, 'Az appendel a végére rakhatok egy új elemet!']\n"
          ],
          "name": "stdout"
        }
      ]
    },
    {
      "cell_type": "markdown",
      "metadata": {
        "id": "NMHC-ML4rr3U",
        "colab_type": "text"
      },
      "source": [
        "## Stringek - hasznosabb mint hinnétek\n",
        "\n",
        "- Sokszor kapunk szöveges adatatot, és sokszor kell szöveget manipulálnunk.\n",
        "- Bankkártya adatok elopása pl: \"Carderek\": Roman Seleznev szert tett 32 ezer bk adatra egy .txt-ben (1.6 m volt neki összesen); nyilván ezeket is fel kellett dolgoznia valahogy.\n"
      ]
    },
    {
      "cell_type": "code",
      "metadata": {
        "id": "ZKadPnxLc2WP",
        "colab_type": "code",
        "outputId": "3e9cbe65-95e8-4ed2-ed49-d0dc500598f4",
        "colab": {
          "base_uri": "https://localhost:8080/",
          "height": 191
        }
      },
      "source": [
        "#str műveletkék.\n",
        "#karaktersorkén kell rá gondolni:\n",
        "a = '3' < 'ochko123' # melyik hosszabb?\n",
        "print(a)\n",
        "#konrét hosszát is tudom\n",
        "print(len('soksokbetű')) #ez listával is múködik\n",
        "\n",
        "#egynlőség\n",
        "print('123' == '321') #itt már nem csak a hossz számít!\n",
        "\n",
        "b = 'ochko123'\n",
        "#kiválasztás\n",
        "print(b[0])\n",
        "print(b[-1])\n",
        "print(b[5:-1])#és ha lehagyom\n",
        "\n",
        "#Itt is lehet úgy \"indexelni\", mint a listáknál, hasonló logikával\n",
        "a = '123456789'\n",
        "print(a[-1:1:-2]) # és ha üresen hagyok pár dolgot? Az üresen hagyott helyekre beírja ebből a megfelelőt: első elem:utcsó elem:egyesével. Pl:\n",
        "print(a[::2]) #kettessével végigmegy!\n",
        "\n",
        "#a string inmutable, változtathatatlan - ez hibát dob:\n",
        "#c = 'forogj világ'\n",
        "#c[0:6]='fidesz'\n",
        "\n",
        "\n",
        "#konkatenálhatom: egymás után fűzhetem és szorozhatom is őket:\n",
        "a = 'mi az hogy'\n",
        "b = ' kettű'\n",
        "c = a + b #konkatenáció\n",
        "print(c)\n",
        "c = a + b*5 #beakad a lemez\n",
        "print(c)"
      ],
      "execution_count": 0,
      "outputs": [
        {
          "output_type": "stream",
          "text": [
            "True\n",
            "10\n",
            "False\n",
            "o\n",
            "3\n",
            "12\n",
            "9753\n",
            "13579\n",
            "mi az hogy kettű\n",
            "mi az hogy kettű kettű kettű kettű kettű\n"
          ],
          "name": "stdout"
        }
      ]
    },
    {
      "cell_type": "markdown",
      "metadata": {
        "id": "fl9Hg_csUE-8",
        "colab_type": "text"
      },
      "source": [
        "# Programozási tételek\n",
        "\n",
        "Ezeknek kellett volna még előkerülni, de jövő órára maradtak. Ha nem sikerülget a házi nélkülük, nézelődhettek még az [InfoC-n](https://infoc.eet.bme.hu/ea02/). Ez nem Python, hanem C, de ez most algoritmuselmélet, és nem szintaksz!\n"
      ]
    }
  ]
}